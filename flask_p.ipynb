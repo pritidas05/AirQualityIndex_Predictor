{
 "cells": [
  {
   "cell_type": "code",
   "execution_count": 1,
   "id": "638e90d8",
   "metadata": {},
   "outputs": [
    {
     "name": "stdout",
     "output_type": "stream",
     "text": [
      "Requirement already satisfied: flask in c:\\users\\kiit\\anaconda3\\lib\\site-packages (1.1.2)\n",
      "Requirement already satisfied: Werkzeug>=0.15 in c:\\users\\kiit\\anaconda3\\lib\\site-packages (from flask) (2.0.3)\n",
      "Requirement already satisfied: click>=5.1 in c:\\users\\kiit\\anaconda3\\lib\\site-packages (from flask) (8.0.4)\n",
      "Requirement already satisfied: Jinja2>=2.10.1 in c:\\users\\kiit\\anaconda3\\lib\\site-packages (from flask) (2.11.3)\n",
      "Requirement already satisfied: itsdangerous>=0.24 in c:\\users\\kiit\\anaconda3\\lib\\site-packages (from flask) (2.0.1)\n",
      "Requirement already satisfied: colorama in c:\\users\\kiit\\anaconda3\\lib\\site-packages (from click>=5.1->flask) (0.4.4)\n",
      "Requirement already satisfied: MarkupSafe>=0.23 in c:\\users\\kiit\\anaconda3\\lib\\site-packages (from Jinja2>=2.10.1->flask) (2.0.1)\n",
      "Requirement already satisfied: flask_cors in c:\\users\\kiit\\anaconda3\\lib\\site-packages (4.0.0)\n",
      "Requirement already satisfied: Flask>=0.9 in c:\\users\\kiit\\anaconda3\\lib\\site-packages (from flask_cors) (1.1.2)\n",
      "Requirement already satisfied: Jinja2>=2.10.1 in c:\\users\\kiit\\anaconda3\\lib\\site-packages (from Flask>=0.9->flask_cors) (2.11.3)\n",
      "Requirement already satisfied: Werkzeug>=0.15 in c:\\users\\kiit\\anaconda3\\lib\\site-packages (from Flask>=0.9->flask_cors) (2.0.3)\n",
      "Requirement already satisfied: click>=5.1 in c:\\users\\kiit\\anaconda3\\lib\\site-packages (from Flask>=0.9->flask_cors) (8.0.4)\n",
      "Requirement already satisfied: itsdangerous>=0.24 in c:\\users\\kiit\\anaconda3\\lib\\site-packages (from Flask>=0.9->flask_cors) (2.0.1)\n",
      "Requirement already satisfied: colorama in c:\\users\\kiit\\anaconda3\\lib\\site-packages (from click>=5.1->Flask>=0.9->flask_cors) (0.4.4)\n",
      "Requirement already satisfied: MarkupSafe>=0.23 in c:\\users\\kiit\\anaconda3\\lib\\site-packages (from Jinja2>=2.10.1->Flask>=0.9->flask_cors) (2.0.1)\n"
     ]
    }
   ],
   "source": [
    "!pip install flask\n",
    "!pip install flask_cors"
   ]
  },
  {
   "cell_type": "code",
   "execution_count": null,
   "id": "c54d7804",
   "metadata": {
    "scrolled": true
   },
   "outputs": [
    {
     "name": "stdout",
     "output_type": "stream",
     "text": [
      " * Serving Flask app \"__main__\" (lazy loading)\n",
      " * Environment: production\n",
      "\u001b[31m   WARNING: This is a development server. Do not use it in a production deployment.\u001b[0m\n",
      "\u001b[2m   Use a production WSGI server instead.\u001b[0m\n",
      " * Debug mode: on\n"
     ]
    },
    {
     "name": "stderr",
     "output_type": "stream",
     "text": [
      " * Running on http://127.0.0.1:5000/ (Press CTRL+C to quit)\n"
     ]
    },
    {
     "name": "stdout",
     "output_type": "stream",
     "text": [
      "{'PM25': '90', 'PM10': '0.00', 'NO': '0.00', 'NO2': '0.00', 'NOx': '0.00', 'NH3': '0.00', 'CO': '0.00', 'SO2': '0.00', 'O3': '0.00', 'Benzene': '0.00', 'Toluene': '0.0', 'Xylene': '0.00', 'city': 'Amritsar'}\n",
      "  PM25  PM10    NO   NO2   NOx   NH3    CO   SO2    O3 Benzene Toluene Xylene  \\\n",
      "0   90  0.00  0.00  0.00  0.00  0.00  0.00  0.00  0.00    0.00     0.0   0.00   \n",
      "\n",
      "       city  \n",
      "0  Amritsar  \n"
     ]
    },
    {
     "name": "stderr",
     "output_type": "stream",
     "text": [
      "127.0.0.1 - - [01/Sep/2023 21:04:48] \"POST /predict HTTP/1.1\" 200 -\n"
     ]
    },
    {
     "name": "stdout",
     "output_type": "stream",
     "text": [
      "Aqi value is: 93.85705722551073\n"
     ]
    },
    {
     "name": "stderr",
     "output_type": "stream",
     "text": [
      "127.0.0.1 - - [01/Sep/2023 21:05:30] \"OPTIONS /predict HTTP/1.1\" 200 -\n",
      "127.0.0.1 - - [01/Sep/2023 21:05:30] \"POST /predict HTTP/1.1\" 200 -\n"
     ]
    },
    {
     "name": "stdout",
     "output_type": "stream",
     "text": [
      "{'city': 'Ahmedabad', 'PM25': '900', 'PM10': '0', 'NO': '2000000000000000000000', 'NO2': '0.00', 'NOx': '0', 'NH3': '78', 'CO': '0', 'SO2': '67', 'O3': '56', 'Benzene': '0', 'Toluene': '0', 'Xylene': '288888'}\n",
      "        city PM25 PM10                      NO   NO2 NOx NH3 CO SO2  O3  \\\n",
      "0  Ahmedabad  900    0  2000000000000000000000  0.00   0  78  0  67  56   \n",
      "\n",
      "  Benzene Toluene  Xylene  \n",
      "0       0       0  288888  \n",
      "Aqi value is: 181.87338112834112\n"
     ]
    },
    {
     "name": "stderr",
     "output_type": "stream",
     "text": [
      "127.0.0.1 - - [01/Sep/2023 21:05:57] \"OPTIONS /predict HTTP/1.1\" 200 -\n",
      "127.0.0.1 - - [01/Sep/2023 21:05:57] \"POST /predict HTTP/1.1\" 200 -\n"
     ]
    },
    {
     "name": "stdout",
     "output_type": "stream",
     "text": [
      "{'city': 'Ahmedabad', 'PM25': '900', 'PM10': '0', 'NO': '20', 'NO2': '0.00', 'NOx': '0', 'NH3': '78', 'CO': '0', 'SO2': '67', 'O3': '56', 'Benzene': '0', 'Toluene': '0', 'Xylene': '28'}\n",
      "        city PM25 PM10  NO   NO2 NOx NH3 CO SO2  O3 Benzene Toluene Xylene\n",
      "0  Ahmedabad  900    0  20  0.00   0  78  0  67  56       0       0     28\n",
      "Aqi value is: 188.42531391004283\n"
     ]
    },
    {
     "name": "stderr",
     "output_type": "stream",
     "text": [
      "127.0.0.1 - - [01/Sep/2023 21:07:32] \"OPTIONS /predict HTTP/1.1\" 200 -\n",
      "127.0.0.1 - - [01/Sep/2023 21:07:32] \"POST /predict HTTP/1.1\" 200 -\n"
     ]
    },
    {
     "name": "stdout",
     "output_type": "stream",
     "text": [
      "{'city': 'Ahmedabad', 'PM25': '900', 'PM10': '89', 'NO': '0.00', 'NO2': '78', 'NOx': '78', 'NH3': '78', 'CO': '78.9', 'SO2': '67', 'O3': '56', 'Benzene': '0', 'Toluene': '0.00', 'Xylene': '0'}\n",
      "        city PM25 PM10    NO NO2 NOx NH3    CO SO2  O3 Benzene Toluene Xylene\n",
      "0  Ahmedabad  900   89  0.00  78  78  78  78.9  67  56       0    0.00      0\n",
      "Aqi value is: 649.1643341985981\n"
     ]
    }
   ],
   "source": [
    "from flask import Flask, jsonify, request\n",
    "from flask_cors import CORS, cross_origin\n",
    "import SmartModel\n",
    "import pandas as pd\n",
    "app = Flask (__name__)\n",
    "CORS(app)\n",
    "app.config['CORS_HEADERS'] = 'application/json'\n",
    "\n",
    "@app.route(\"/predict\", methods=[\"POST\"]) \n",
    "@cross_origin (supports_credentials=True) \n",
    "def predictoap():\n",
    "    data = request.get_json()\n",
    "    print(data)\n",
    "    cust_df = pd.DataFrame([data])\n",
    "    print(cust_df)\n",
    "    return jsonify (SmartModel.predict(cust_df))\n",
    "\n",
    "if __name__ == '__main__':\n",
    "    app.run(debug=True, use_reloader=False)"
   ]
  },
  {
   "cell_type": "code",
   "execution_count": null,
   "id": "c732a60a-5dfa-4e8f-9913-a71303ae7d81",
   "metadata": {},
   "outputs": [],
   "source": []
  }
 ],
 "metadata": {
  "kernelspec": {
   "display_name": "Python 3 (ipykernel)",
   "language": "python",
   "name": "python3"
  },
  "language_info": {
   "codemirror_mode": {
    "name": "ipython",
    "version": 3
   },
   "file_extension": ".py",
   "mimetype": "text/x-python",
   "name": "python",
   "nbconvert_exporter": "python",
   "pygments_lexer": "ipython3",
   "version": "3.9.12"
  }
 },
 "nbformat": 4,
 "nbformat_minor": 5
}
